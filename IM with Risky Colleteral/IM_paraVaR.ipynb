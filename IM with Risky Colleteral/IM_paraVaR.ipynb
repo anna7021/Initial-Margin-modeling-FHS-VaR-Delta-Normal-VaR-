{
 "cells": [
  {
   "cell_type": "code",
   "execution_count": 2,
   "id": "52f37aec-eee6-4644-a4a5-2f4a14b518a3",
   "metadata": {},
   "outputs": [
    {
     "name": "stdout",
     "output_type": "stream",
     "text": [
      "Note: you may need to restart the kernel to use updated packages.\n"
     ]
    }
   ],
   "source": [
    "%pip install -q yfinance pandas pandas-datareader numpy scipy scikit-learn matplotlib"
   ]
  },
  {
   "cell_type": "markdown",
   "id": "0f8de883-fd21-475e-b6b5-68ff9377c812",
   "metadata": {},
   "source": [
    "#### config.py"
   ]
  },
  {
   "cell_type": "code",
   "execution_count": 132,
   "id": "f47e151e-ce29-45f3-bfdc-817cded367e8",
   "metadata": {},
   "outputs": [],
   "source": [
    "# config.py\n",
    "ALPHA = 0.99                  # one-tailed confidence\n",
    "CLOSEOUT_DAYS = 10            # h\n",
    "ANNUAL_TRADING_DAYS = 252\n",
    "EQUITY_TICKER = \"SPY\"         # proxy for S\n",
    "FRED_RATE_SERIES = [\"DGS2\"]   # U.S. 2-Year Treasury Constant Maturity rate\n",
    "WINDOW = 500                  # ~3y of daily data\n",
    "USE_LED_WOLF = False          # Ledoit–Wolf shrinkage\n",
    "USE_EWMA = False              # RiskMetrics type\n",
    "LAMBDA = 0.97                 # EWMA decay\n",
    "R_SHORT = 0.02                # rate for BS where needed\n",
    "\n",
    "# Why use DGS2 as a “rates factor”? not SOFR(only in a discounting/valuation layer)\n",
    "# Curve node, not overnight: For macro/equity factor models you usually want a few tenor nodes (e.g., 2y / 5y / 10y) that represent moves of the yield curve. The 2-year is a classic “policy-sensitive” point—captures expectations about the Fed over the next few years, and co-moves strongly with equities/risk.\n",
    "# Long history & clean daily series: DGS2 goes back decades with minimal data gaps—good for covariances, stress windows, and regime comparisons.\n",
    "# Stable mapping to risk (DV01): If you later add bond/IR instruments, DV01s map naturally to moves in 2y/5y/10y nodes."
   ]
  },
  {
   "cell_type": "markdown",
   "id": "e92a842d-fe9f-4ac7-87d5-01a84c979403",
   "metadata": {},
   "source": [
    "#### data_loader.py"
   ]
  },
  {
   "cell_type": "code",
   "execution_count": 135,
   "id": "b12a96ee-b04a-4186-bcfc-258c63c867e7",
   "metadata": {},
   "outputs": [],
   "source": [
    "import numpy as np, pandas as pd, yfinance as yf\n",
    "from pandas_datareader import data as pdr\n",
    "from sklearn.covariance import LedoitWolf\n",
    "# from .config import *\n",
    "from datetime import datetime, timedelta\n",
    "\n",
    "def _ewma_cov(dX: np.ndarray, lam: float) -> np.ndarray:\n",
    "    T, n = dX.shape  # T x n\n",
    "    mu = np.zeros(n)\n",
    "    S = np.zeros((n,n))\n",
    "    w = 1.0\n",
    "    for t in range(T-1, -1, -1):\n",
    "        x = dX[t] - mu\n",
    "        S = lam*S + (1-lam)*np.outer(x, x)  # newer observations get weight (1-lambda)\n",
    "    return S / (1 - lam**T)  # rescale to be close to sample magnitude\n",
    "\n",
    "def load_levels_and_cov():\n",
    "    end = datetime.today()\n",
    "    start = end - timedelta(days=int(WINDOW*1.6))    \n",
    "    eq = yf.download(EQUITY_TICKER, start=start, end=end, auto_adjust=True)[\"Close\"]    # Equity\n",
    "    eq = eq.iloc[:, 0].rename(\"EQ\")\n",
    "    fred = pdr.DataReader(FRED_RATE_SERIES, \"fred\", start, end)    # FRED rates (daily %)\n",
    "    df = pd.concat([eq, fred], axis=1).dropna().tail(WINDOW)\n",
    "    dS = df[\"EQ\"].diff().dropna()   # ΔX_t\n",
    "    dr_cols = fred.columns\n",
    "    dR = df[dr_cols].diff().dropna()\n",
    "    X = df.loc[dR.index].copy()\n",
    "    dX = pd.concat([dS.rename(\"dEQ\"), dR], axis=1).dropna()\n",
    "    M = dX.to_numpy()  # 1-day covariance\n",
    "    if USE_EWMA:\n",
    "        Sigma_1d = _ewma_cov(M, LAMBDA)\n",
    "    else:\n",
    "        Sigma_1d = np.cov(M, rowvar=False)\n",
    "    Sigma_h = Sigma_1d * CLOSEOUT_DAYS  # scale to closeout\n",
    "    levels_today = X.iloc[-1].to_dict()   # Today’s levels for pricing {\"EQ\": spot S, \"DGS2\": y%, ...}\n",
    "    return X, dX, Sigma_h, levels_today"
   ]
  },
  {
   "cell_type": "markdown",
   "id": "412ed553-3899-4c1c-886b-41829ce2fe87",
   "metadata": {},
   "source": [
    "#### greeks.py"
   ]
  },
  {
   "cell_type": "code",
   "execution_count": 88,
   "id": "a33af214-08bf-4639-bd9a-8065ac28e7c7",
   "metadata": {},
   "outputs": [],
   "source": [
    "import numpy as np\n",
    "from math import log, sqrt, erf, exp\n",
    "# from .config import R_SHORT\n",
    "\n",
    "def N(x): return 0.5*(1+erf(x/np.sqrt(2)))\n",
    "\n",
    "def bs_call_price(S, K, T, r, sigma):\n",
    "    if T<=0 or sigma<=0: return max(S-K, 0.0)\n",
    "    d1 = (log(S/K)+(r+0.5*sigma**2)*T)/(sigma*sqrt(T))\n",
    "    d2 = d1 - sigma*sqrt(T)\n",
    "    return S*N(d1) - K*np.exp(-r*T)*N(d2)\n",
    "\n",
    "def bs_call_delta(S, K, T, r, sigma):\n",
    "    if T<=0 or sigma<=0: return 1.0 if S>K else 0.0\n",
    "    d1 = (log(S/K)+(r+0.5*sigma**2)*T)/(sigma*sqrt(T))\n",
    "    return N(d1)\n",
    "\n",
    "def bs_put_delta(S, K, T, r, sigma):\n",
    "    return bs_call_delta(S,K,T,r,sigma) - 1.0\n",
    "\n",
    "def equity_delta(n_shares: float) -> float:\n",
    "    return float(n_shares)\n",
    "\n",
    "def swap_dv01_to_rate_factor(DV01_dollars: float) -> float:\n",
    "    return DV01_dollars * 100  # DV01: $/ZWbp; ∂V/∂r_percent (here): $/%. rate factor is \"rate level in % points\", ∂V/∂r ≈ DV01 * 100\n",
    "\n",
    "def bond_duration_delta(price: float, duration_yrs: float) -> float:\n",
    "    # ∂V/∂y ≈ -Duration * Price (per 1.0 change in yield, not bp) → per 1% ≈ -0.01 * Duration * Price\n",
    "    return -0.01 * duration_yrs * price"
   ]
  },
  {
   "cell_type": "markdown",
   "id": "518abfa0-bff9-498b-a867-837c1e011065",
   "metadata": {},
   "source": [
    "#### collateral.py"
   ]
  },
  {
   "cell_type": "code",
   "execution_count": 90,
   "id": "fc5f2a68-7262-49d3-a916-1aaec910d091",
   "metadata": {},
   "outputs": [],
   "source": [
    "import numpy as np\n",
    "# from .greeks import bs_call_price, bs_call_delta\n",
    "\n",
    "def dstar_stock_per_dollar(S): return np.array([1.0/S, 0.0])  # delta per $, equity factor only\n",
    "def dstar_cash_per_dollar():   return np.array([0.0])\n",
    "\n",
    "def dstar_call_per_dollar(S, T, r, sigma):\n",
    "    C = bs_call_price(S,S,T,r,sigma)  # ATM\n",
    "    Delta = bs_call_delta(S,S,T,r,sigma)  # ATM\n",
    "    return np.array([Delta/ C, 0.0])   # per-$ delta w.r.t. S\n",
    "\n",
    "def dstar_rate_bond_per_dollar(delta_per_1pct):  # for rate factor only\n",
    "    return np.array([delta_per_1pct])   # already per $1"
   ]
  },
  {
   "cell_type": "markdown",
   "id": "572dfadf-4dd2-49ae-838f-507013b18251",
   "metadata": {},
   "source": [
    "#### risk_engine.py"
   ]
  },
  {
   "cell_type": "code",
   "execution_count": 180,
   "id": "7e2a5607-b4de-409f-a358-1d6aa6f74057",
   "metadata": {},
   "outputs": [],
   "source": [
    "import numpy as np\n",
    "# from .config import ALPHA\n",
    "from scipy.stats import norm\n",
    "\n",
    "def solve_im(a, b, Sigma):\n",
    "    q = norm.ppf(ALPHA)\n",
    "    ab = float(a.T @ Sigma @ b)  # a: D*IM the delta of the normalized portolio D*IM=D_IM/pi_IM(0); b: \n",
    "    aa = float(a.T @ Sigma @ a)  # b: D_C=D_U-D_VM, the deltas of the unsecured portfolio netted with the deltas of the VM portfolio\n",
    "    bb = float(b.T @ Sigma @ b) \n",
    "    A = 1.0 - q*q*bb  # coefs for quadratic inequality (equation 2.7) \n",
    "    B = 2.0 * q*q * ab\n",
    "    C = - q*q * aa\n",
    "    if abs(A) < 1e-5:  # coef of the square term == 0, => linear inequality\n",
    "        if B <= 0: return None, None, {\"A\":A,\"B\":B,\"C\":C,\"bb\":bb,\"ab\":ab,\"aa\":aa}\n",
    "        x = -C/B\n",
    "        return (x if x>0 else None), None, {\"A\":A,\"B\":B,\"C\":C,\"bb\":bb,\"ab\":ab,\"aa\":aa}\n",
    "    disc = B*B - 4*A*C  # solve the quadratic inequality\n",
    "    if disc < -1e-5: return None, None, {\"A\":A,\"B\":B,\"C\":C,\"bb\":bb,\"ab\":ab,\"aa\":aa}\n",
    "    root = np.sqrt(disc)\n",
    "    x1, x2 = (-B-root)/(2*A), (-B+root)/(2*A)\n",
    "    lo, hi = (min(x1,x2), max(x1,x2))\n",
    "    if A > 0:\n",
    "        # feasible x<=lo or x>=hi ; we want the smallest positive feasible\n",
    "        if lo >= 0: return lo, None, {\"A\":A,\"B\":B,\"C\":C,\"bb\":bb,\"ab\":ab,\"aa\":aa}\n",
    "        if hi >= 0: return hi, None, {\"A\":A,\"B\":B,\"C\":C,\"bb\":bb,\"ab\":ab,\"aa\":aa}\n",
    "        return None, None, {\"A\":A,\"B\":B,\"C\":C,\"bb\":bb,\"ab\":ab,\"aa\":aa}\n",
    "    else:\n",
    "        # feasible between [lo,hi]\n",
    "        if hi <= 0: return None, None, {\"A\":A,\"B\":B,\"C\":C,\"bb\":bb,\"ab\":ab,\"aa\":aa}\n",
    "        return max(0.0, lo), hi, {\"A\":A,\"B\":B,\"C\":C,\"bb\":bb,\"ab\":ab,\"aa\":aa}\n",
    "\n",
    "def cash_baseline(a, Sigma):\n",
    "    q = norm.ppf(ALPHA)\n",
    "    return q * np.sqrt(float(a.T @ Sigma @ a))"
   ]
  },
  {
   "cell_type": "markdown",
   "id": "2beba0a1-9da9-4fdb-a0e2-ccfd62fa6c83",
   "metadata": {},
   "source": [
    "#### optimizer.py"
   ]
  },
  {
   "cell_type": "code",
   "execution_count": 181,
   "id": "ca660751-a8af-4211-b2fd-18981efc0ca1",
   "metadata": {},
   "outputs": [],
   "source": [
    "import numpy as np\n",
    "from itertools import product\n",
    "from scipy.optimize import minimize\n",
    "# from .risk_engine import solve_im\n",
    "\n",
    "# Grid and SLSQP to minimize IM over collateral weights (subject to 𝑤≥0,∑𝑤=1w≥0,∑w=1 + feasibility).\n",
    "def grid_search_min_im(a, Sigma, dstar_list, grid=21):\n",
    "    # dstar_list: [b1, b2, ...] vectors in R^n (per-$ deltas)\n",
    "    m = len(dstar_list)\n",
    "    best = (np.inf, None, None)\n",
    "    for weights in product(np.linspace(0,1,grid), repeat=m):\n",
    "        w = np.array(weights); w /= w.sum() if w.sum()>0 else 1.0\n",
    "        b = np.sum([w[i]*dstar_list[i] for i in range(m)], axis=0)\n",
    "        lo, hi, meta = solve_im(a, b, Sigma)\n",
    "        if lo is not None and lo < best[0]: best = (lo, w, (hi, meta))\n",
    "    return best  # (min_IM, weights, (upper_bound, diagnostics))\n",
    "# Pros: simple, deterministic, can find near-global min if the grid is fine.\n",
    "# Cons: explodes combinatorially (grid^m), so it’s slow for large m or finer grids; only coarse resolution.\n",
    "\n",
    "def slsqp_min_im(a, Sigma, dstar_list):\n",
    "    m = len(dstar_list)\n",
    "    x0 = np.ones(m)/m\n",
    "    cons = [{\"type\":\"eq\",\"fun\":lambda w: np.sum(w)-1.0}]\n",
    "    bnds = [(0,1)]*m\n",
    "    def obj(w):\n",
    "        b = sum(w[i]*dstar_list[i] for i in range(m))\n",
    "        lo, hi, meta = solve_im(a, b, Sigma)\n",
    "        return lo if lo is not None else 1e9\n",
    "    res = minimize(obj, x0, bounds=bnds, constraints=cons, method=\"SLSQP\", options={\"maxiter\":200})\n",
    "    w = res.x\n",
    "    b = sum(w[i]*dstar_list[i] for i in range(m))\n",
    "    lo, hi, meta = solve_im(a, b, Sigma)\n",
    "    return lo, w, (hi, meta, res.success)\n",
    "# Pros: fast; scales to larger m; respects constraints exactly.\n",
    "# Cons: can get stuck in local minima; requires obj(w) to be reasonably smooth for best results; depends on starting point."
   ]
  },
  {
   "cell_type": "markdown",
   "id": "5b3d9492-ac89-40b6-8391-7517b37faf77",
   "metadata": {},
   "source": [
    "#### validation.py"
   ]
  },
  {
   "cell_type": "code",
   "execution_count": 182,
   "id": "34efcb8c-d801-44c7-8f81-686438d9b43a",
   "metadata": {},
   "outputs": [],
   "source": [
    "import numpy as np, matplotlib.pyplot as plt\n",
    "from scipy.stats import norm\n",
    "# from .risk_engine import solve_im, cash_baseline\n",
    "    \n",
    "def scenario_curve_vol(a, Sigma_scalar, S, K, T, r, U0, vols):\n",
    "    q = norm.ppf(0.99)\n",
    "    imr_cash, stock_lo, stock_hi, call_lo, call_hi = [],[],[],[],[]\n",
    "    for vol in vols:\n",
    "        Sigma = np.array([[ (vol**2) * Sigma_scalar, 0.0], [0.0, 0.0]])\n",
    "        b_stock = np.array([1.0/ S, 0.0])\n",
    "        C = bs_call_price(S, K, T, r, vol)\n",
    "        Delta = bs_call_delta(S, K, T, r, vol)\n",
    "        b_call = np.array([Delta / C, 0.0])  # per-$ delta at this σ\n",
    "        imr_cash.append(cash_baseline(a, Sigma)/U0)\n",
    "        lo, hi, _ = solve_im(a, b_stock, Sigma); stock_lo.append(lo/U0 if lo else np.nan); stock_hi.append(hi/U0 if hi else np.nan)\n",
    "        lo, hi, _ = solve_im(a, b_call,  Sigma); call_lo.append(lo/U0 if lo else np.nan);  call_hi.append(hi/U0 if hi else np.nan)\n",
    "    return np.array(imr_cash), np.array(stock_lo), np.array(stock_hi), np.array(call_lo), np.array(call_hi)\n",
    "\n",
    "def plot_imr_vs_vol(vols, imr_cash, stock_lo, stock_hi, call_lo, call_hi):\n",
    "    plt.figure(figsize=(8,5))\n",
    "    plt.plot(100*vols, 100*stock_lo,  'o-', label=\"IMR_lower (stock)\")\n",
    "    plt.plot(100*vols, 100*stock_hi,  's-', label=\"IMR_upper (stock)\")\n",
    "    plt.plot(100*vols, 100*call_lo,   '^-', label=\"IMR_lower (call)\")\n",
    "    plt.plot(100*vols, 100*call_hi,   'x-', label=\"IMR_upper (call)\")\n",
    "    plt.plot(100*vols, 100*imr_cash,  '*-', label=\"IMR (cash)\")\n",
    "    plt.xlabel(\"Equity volatility (%)\")\n",
    "    plt.ylabel(\"IM / unsecured portfolio value (%)\")\n",
    "    plt.title(\"IM requirement vs equity volatility\")\n",
    "    plt.legend(); plt.tight_layout(); plt.show()\n"
   ]
  },
  {
   "cell_type": "markdown",
   "id": "ff522c53-7015-4204-a72a-2c77bcba8902",
   "metadata": {},
   "source": [
    "#### backtest.py"
   ]
  },
  {
   "cell_type": "code",
   "execution_count": 183,
   "id": "dcb98d12-0dab-42f7-93da-1b6aa340c89a",
   "metadata": {},
   "outputs": [],
   "source": [
    "import numpy as np, pandas as pd\n",
    "# from .risk_engine import cash_baseline, solve_im\n",
    "\n",
    "def backtest_exceedances(dX_df, a, b, Sigma_h, alpha=0.99):\n",
    "    # simple check: simulate linear loss L = a^T ΔX over 10-day sums (or use 10-day rolling sums)\n",
    "    # ΔX is 1-day; build 10-day blocks:\n",
    "    M = dX_df.to_numpy()\n",
    "    h = 10\n",
    "    blocks = [M[i:i+h].sum(axis=0) for i in range(0, len(M)-h)]\n",
    "    losses = np.array([a @ blk for blk in blocks])  # linearized exposure\n",
    "    # model IM (constant over the period for demo)\n",
    "    lo, hi, meta = solve_im(a, b, Sigma_h)\n",
    "    threshold = lo if lo is not None else np.nan\n",
    "    exc = np.mean(losses > threshold)\n",
    "    return {\"im_level\": threshold, \"exc_rate\": exc, \"n\": len(losses)}"
   ]
  },
  {
   "cell_type": "markdown",
   "id": "937b40f1-4e97-4540-91b8-323a10c96023",
   "metadata": {},
   "source": [
    "#### stress.py"
   ]
  },
  {
   "cell_type": "code",
   "execution_count": 184,
   "id": "ac33ec91-1593-4bb5-9d2e-1edfa2a82073",
   "metadata": {},
   "outputs": [],
   "source": [
    "import numpy as np\n",
    "def scale_sigma(Sigma, scale): return Sigma * (scale**2)\n",
    "def rotate_2d(vec, theta):     # rotate a 2D vector by theta (radians)\n",
    "    c,s = np.cos(theta), np.sin(theta)  # sweep direction of a shock across the plane spanned by two correlated factors.\n",
    "    R = np.array([[c,-s],[s,c]])\n",
    "    return R @ vec"
   ]
  },
  {
   "cell_type": "markdown",
   "id": "c4ceb230-3a40-4fef-932f-d128741cb017",
   "metadata": {},
   "source": [
    "#### scenario_table2.py"
   ]
  },
  {
   "cell_type": "code",
   "execution_count": 185,
   "id": "dd241c1c-de42-4ed0-8117-8a31ee72dbdd",
   "metadata": {},
   "outputs": [],
   "source": [
    "import numpy as np, pandas as pd\n",
    "# from .config import R_SHORT\n",
    "# from .greeks import bs_call_price, bs_call_delta, equity_delta, bs_put_delta, swap_dv01_to_rate_factor, bond_duration_delta\n",
    "# from .risk_engine import solve_im, cash_baseline\n",
    "\n",
    "def build_table2(S, vol, r_level, Sigma_h):\n",
    "    # One-factor equity case for options; add one rate factor for swaps/bond\n",
    "    # Define unsecured portfolio deltas a for each row/col label:\n",
    "    labels = [\"Stock\",\"Call\",\"Put\", \"Bond\",\"Cash\"]\n",
    "\n",
    "    # unsecured value π_U(0) for IM ratio denominator (by convention we use |MTM| where needed)\n",
    "    def unsecured_value(lbl):\n",
    "        if lbl==\"Stock\":  return S\n",
    "        if lbl==\"Call\":   return bs_call_price(S,S,0.25,r_level,vol)\n",
    "        if lbl==\"Put\":    return bs_call_price(S,S,0.25,r_level,vol)  # ATM call price is used in paper; for put, you can use put price too\n",
    "        # if lbl==\"Pay\":    return 10000.0  # MTM assumption from paper’s table\n",
    "        # if lbl==\"Rec\":    return 10000.0\n",
    "        if lbl==\"Bond\":   return 1000.0\n",
    "        if lbl==\"Cash\":   return 1.0\n",
    "        return 1.0\n",
    "\n",
    "    def unsecured_delta(lbl):\n",
    "        # Return a vector in R^n. use n=2 (equity level, single rate node) to match the paper’s setup\n",
    "        if lbl==\"Stock\":  return np.array([1.0, 0.0])\n",
    "        if lbl==\"Call\":   return np.array([bs_call_delta(S,S,0.25,r_level,vol), 0.0])\n",
    "        if lbl==\"Put\":    return np.array([bs_put_delta (S,S,0.25,r_level,vol), 0.0])\n",
    "        # if lbl==\"Pay\":    return np.array([0.0, swap_dv01_to_rate_factor(5000.0)])   # DV01 $5000\n",
    "        # if lbl==\"Rec\":    return np.array([0.0,-swap_dv01_to_rate_factor(5000.0)])   # opposite sign\n",
    "        if lbl==\"Bond\":   return np.array([0.0, bond_duration_delta(1000.0, 15.0)])  # duration 15y\n",
    "        if lbl==\"Cash\":   return np.array([0.0, 0.0])\n",
    "        return np.zeros(2)\n",
    "\n",
    "    def im_per_dollar(lbl):\n",
    "        if lbl==\"Stock\": return np.array([1.0/S, 0.0])\n",
    "        if lbl==\"Call\":\n",
    "            C = bs_call_price(S,S,0.25,r_level,vol)\n",
    "            Delta = bs_call_delta(S,S,0.25,r_level,vol)\n",
    "            return np.array([Delta/C, 0.0])\n",
    "        if lbl==\"Put\":\n",
    "            # per-$ delta of put collateral (rare in practice); symmetric to call\n",
    "            C = bs_call_price(S,S,0.25,r_level,vol)\n",
    "            Delta = bs_put_delta(S,S,0.25,r_level,vol)\n",
    "            return np.array([Delta/C, 0.0])\n",
    "        # if lbl==\"Pay\":  return np.array([0.0,  swap_dv01_to_rate_factor(5000.0)/10000.0])  # per-$  (units: per $1)\n",
    "        # if lbl==\"Rec\":  return np.array([0.0, -swap_dv01_to_rate_factor(5000.0)/10000.0])\n",
    "        if lbl==\"Bond\": return np.array([0.0,  bond_duration_delta(1000.0,15.0)/1000.0])\n",
    "        if lbl==\"Cash\": return np.array([0.0, 0.0])\n",
    "        return np.zeros(2)\n",
    "\n",
    "    tbl = pd.DataFrame(index=labels, columns=labels, dtype=float)\n",
    "    for im_lbl in labels:\n",
    "        b = im_per_dollar(im_lbl)\n",
    "        for up_lbl in labels:\n",
    "            a = unsecured_delta(up_lbl)   # D_U (assume D_VM=0)\n",
    "            U0 = unsecured_value(up_lbl)\n",
    "            lo, hi, _ = solve_im(a, b, Sigma_h)\n",
    "            if lo is None:\n",
    "                tbl.loc[im_lbl, up_lbl] = np.nan\n",
    "            else:\n",
    "                tbl.loc[im_lbl, up_lbl] = 100.0 * (lo / U0)   # IMR in %\n",
    "    return tbl\n"
   ]
  },
  {
   "cell_type": "markdown",
   "id": "6be7fbf5-13e6-492b-8091-b0ee74bb093b",
   "metadata": {},
   "source": [
    "#### main.py"
   ]
  },
  {
   "cell_type": "code",
   "execution_count": 186,
   "id": "c686a29b-17b8-4e5d-b34b-c618f06986df",
   "metadata": {},
   "outputs": [
    {
     "name": "stderr",
     "output_type": "stream",
     "text": [
      "[*********************100%***********************]  1 of 1 completed\n"
     ]
    },
    {
     "name": "stdout",
     "output_type": "stream",
     "text": [
      "\n",
      "--- Table 2 style IMR matrix (%, NA where infeasible) ---\n",
      "\n",
      "       Stock   Call    Put  Bond  Cash\n",
      "Stock   5.73  50.07  47.57  6.92  -0.0\n",
      "Call    3.97  34.69  95.27  8.80  -0.0\n",
      "Put    10.99  95.99  30.88  7.16  -0.0\n",
      "Bond    6.15  53.73  44.37  6.41  -0.0\n",
      "Cash    6.08  53.11  44.67  6.85  -0.0\n"
     ]
    },
    {
     "data": {
      "image/png": "[encoded data removed]",
      "text/plain": [
       "<Figure size 800x500 with 1 Axes>"
      ]
     },
     "metadata": {},
     "output_type": "display_data"
    }
   ],
   "source": [
    "# from .data_loader import load_levels_and_cov\n",
    "# from .scenario_table2 import build_table2\n",
    "# from .validation import scenario_curve_vol, plot_imr_vs_vol\n",
    "# from .collateral import dstar_stock_per_dollar, dstar_call_per_dollar\n",
    "import numpy as np, pandas as pd\n",
    "# from .config import R_SHORT\n",
    "\n",
    "def run():\n",
    "    X, dX, Sigma_h, levels = load_levels_and_cov()\n",
    "    S = float(levels[\"EQ\"])\n",
    "    r = R_SHORT  # you can also map from levels[\"DGS2\"]/100.0\n",
    "    # Reproduce Table 2 (the exact numbers will differ because we use real data Σ instead of the paper’s toy Σ)\n",
    "    tbl2 = build_table2(S, vol=0.30, r_level=r, Sigma_h=Sigma_h)\n",
    "    print(\"\\n--- Table 2 style IMR matrix (%, NA where infeasible) ---\\n\")\n",
    "    print(tbl2.round(2))\n",
    "    tbl2.to_csv(\"table2_results.csv\")\n",
    "    # Scenario curve like Fig 2 (single-factor depiction)\n",
    "    # Build scalars for equity-only illustration\n",
    "    a = np.array([1.0, 0.0])    # unsecured = 1 share\n",
    "    Sigma_scalar = (S**2) * (10/252.0)     # baseline scaling; vol^2 multiplies this\n",
    "    b_stock = dstar_stock_per_dollar(S)\n",
    "    b_call  = dstar_call_per_dollar(S, T=0.25, r=r, sigma=0.30)\n",
    "    vols = np.linspace(0.5, 8, 16)\n",
    "    imr_cash, stock_lo, stock_hi, call_lo, call_hi = scenario_curve_vol(a, Sigma_scalar, S, S, T=0.25, r=r, U0=S, vols=vols)\n",
    "    plot_imr_vs_vol(vols, imr_cash, stock_lo, stock_hi, call_lo, call_hi)\n",
    "\n",
    "if __name__ == \"__main__\":\n",
    "    run()"
   ]
  },
  {
   "cell_type": "code",
   "execution_count": null,
   "id": "8274756f-c3b6-4a96-8a4a-f7b461bb8cc0",
   "metadata": {},
   "outputs": [],
   "source": []
  }
 ],
 "metadata": {
  "kernelspec": {
   "display_name": "Python 3 (ipykernel)",
   "language": "python",
   "name": "python3"
  },
  "language_info": {
   "codemirror_mode": {
    "name": "ipython",
    "version": 3
   },
   "file_extension": ".py",
   "mimetype": "text/x-python",
   "name": "python",
   "nbconvert_exporter": "python",
   "pygments_lexer": "ipython3",
   "version": "3.11.6"
  }
 },
 "nbformat": 4,
 "nbformat_minor": 5
}
